{
  "nbformat": 4,
  "nbformat_minor": 0,
  "metadata": {
    "colab": {
      "name": "SafTrial.ipynb",
      "provenance": [],
      "authorship_tag": "ABX9TyMHC4WTGE9PVsIjPQXpE5JQ",
      "include_colab_link": true
    },
    "kernelspec": {
      "name": "python3",
      "display_name": "Python 3"
    },
    "language_info": {
      "name": "python"
    }
  },
  "cells": [
    {
      "cell_type": "markdown",
      "metadata": {
        "id": "view-in-github",
        "colab_type": "text"
      },
      "source": [
        "<a href=\"https://colab.research.google.com/github/JoanWaweru/saftrial/blob/main/SafTrial.ipynb\" target=\"_parent\"><img src=\"https://colab.research.google.com/assets/colab-badge.svg\" alt=\"Open In Colab\"/></a>"
      ]
    },
    {
      "cell_type": "code",
      "execution_count": null,
      "metadata": {
        "id": "I0pdL-8nxKdE"
      },
      "outputs": [],
      "source": [
        "import tweepy\n",
        "from textblob import TextBlob, Word, Blobber"
      ]
    },
    {
      "cell_type": "code",
      "source": [
        "''' authenticate'''\n",
        "\n",
        "consumer_key = 'jSE6LkL3Q8ShWjX86IXMVBLiP'\n",
        "consumer_secret = '6b3NkB8p2zvrRdU6Rg6kJpDY4nmzabPPTPjUL9mXybxHVrus23'\n",
        "access_token = '1453057819666784274-PaSZgilTeptmCQXc5wFlszfN1dOexa'\n",
        "access_token_secret = 'NXBleOtl08rnGf03HSA026WSKWkeOolK8l3qAQ3iyFkpA'\n",
        "\n",
        "auth = tweepy.OAuthHandler(consumer_key, consumer_secret)\n",
        "auth.set_access_token(access_token,access_token_secret)\n",
        "\n",
        "api=tweepy.API(auth)\n",
        "api"
      ],
      "metadata": {
        "colab": {
          "base_uri": "https://localhost:8080/"
        },
        "id": "lWO_kgTFyPT4",
        "outputId": "7e74bfdd-5af1-433e-9929-fd9c668f7adf"
      },
      "execution_count": null,
      "outputs": [
        {
          "output_type": "execute_result",
          "data": {
            "text/plain": [
              "<tweepy.api.API at 0x7f46eba42a50>"
            ]
          },
          "metadata": {},
          "execution_count": 10
        }
      ]
    },
    {
      "cell_type": "code",
      "source": [
        "auth"
      ],
      "metadata": {
        "colab": {
          "base_uri": "https://localhost:8080/"
        },
        "id": "4O_kxJ7OyYDo",
        "outputId": "b12419fa-88f5-4107-8062-8ab758d68fd3"
      },
      "execution_count": null,
      "outputs": [
        {
          "output_type": "execute_result",
          "data": {
            "text/plain": [
              "<tweepy.auth.OAuthHandler at 0x7f46eba42cd0>"
            ]
          },
          "metadata": {},
          "execution_count": 11
        }
      ]
    },
    {
      "cell_type": "code",
      "source": [
        "'''retrieve tweets'''\n",
        "\n",
        "public_tweets = api.search(\"safaricom\")\n",
        "\n",
        "''' perform sentiment analysis on tweets'''\n",
        "\n",
        "for tweet in public_tweets:\n",
        "\tprint(tweet.text)\n",
        "\tanalysis = TextBlob(tweet.text)\n",
        "\tprint(analysis.sentiment)"
      ],
      "metadata": {
        "colab": {
          "base_uri": "https://localhost:8080/"
        },
        "id": "dpbFl2sLybWb",
        "outputId": "7646daf4-727a-4986-d2d9-6ddb3c9eb060"
      },
      "execution_count": null,
      "outputs": [
        {
          "output_type": "stream",
          "name": "stdout",
          "text": [
            "@Safaricom_Care @Kipyegon_Cheru Sasa hii imemsaidia aje? Ama ataambia hio statement irejeshe pesa yenye haipatikani?..\n",
            "Sentiment(polarity=0.0, subjectivity=0.0)\n",
            "@Safaricom_Care Mpesa number:0716014228,Mbuvi Francis\n",
            "Sentiment(polarity=0.0, subjectivity=0.0)\n",
            "@Safaricom_Care Ok proceed with the reversal the amount due is 1500,thank you\n",
            "Sentiment(polarity=0.1875, subjectivity=0.4375)\n",
            "@Safaricom_Care Kwni nyinyi pia mmeeenda campaigns. No one is picking my calls with mpesa issues...\n",
            "Sentiment(polarity=0.0, subjectivity=0.0)\n",
            "@mbuvif Alright. ^AO\n",
            "Sentiment(polarity=0.0, subjectivity=0.0)\n",
            "@Safaricom_Care Let me top up and advise soon\n",
            "Sentiment(polarity=0.5, subjectivity=0.5)\n",
            "@iam_akeyo Hi, kindly DM us your mobile number, registered name, IDno., transaction date, time and amount for us to check and advise. ^AO\n",
            "Sentiment(polarity=0.6, subjectivity=0.9)\n",
            "@Safaricom_Care\n",
            "Sentiment(polarity=0.0, subjectivity=0.0)\n",
            "RT @sicsafaricom: Did you know that our Zaria Village Project is a joint venture between Safaricom Investment Cooperative and Palm Ridge? R…\n",
            "Sentiment(polarity=0.0, subjectivity=0.0)\n",
            "@Safaricom_Care Hello. Kindly help me on this. I was sent to money through worldremit and I haven't received it sin… https://t.co/Lu2hmECYlf\n",
            "Sentiment(polarity=0.6, subjectivity=0.9)\n",
            "@mbuvif As advised earlier the amount has to be in full for a reversal to be done. Advise them to top up then advis… https://t.co/VUoZwH2rhC\n",
            "Sentiment(polarity=0.2833333333333333, subjectivity=0.5166666666666667)\n",
            "@DullahJr Hello Dullah, on it. ^AO\n",
            "Sentiment(polarity=0.0, subjectivity=0.0)\n",
            "@Safaricom_Care Is there progress I need that money urgently\n",
            "Sentiment(polarity=0.0, subjectivity=0.0)\n",
            "Yes, have been wondering how IEBC got my phone details and name. Has Safaricom breached our privacy? https://t.co/MuejKlRvvB\n",
            "Sentiment(polarity=0.0, subjectivity=0.0)\n",
            "@Safaricom_Care  Check Dm\n",
            "Sentiment(polarity=0.0, subjectivity=0.0)\n"
          ]
        }
      ]
    }
  ]
}